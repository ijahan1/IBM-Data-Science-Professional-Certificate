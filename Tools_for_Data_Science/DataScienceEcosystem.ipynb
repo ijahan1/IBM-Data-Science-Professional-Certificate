{
 "cells": [
  {
   "cell_type": "markdown",
   "id": "9b170138",
   "metadata": {},
   "source": [
    "<!--  Exercise 2: Create markdown cell with title of the notebook -->\n",
    "# Data Science Tools and Ecosystem"
   ]
  },
  {
   "cell_type": "markdown",
   "id": "d1b793cd",
   "metadata": {},
   "source": [
    "<!-- Exercise 3 - Create a markdown cell for an introduction -->\n",
    "In this notebook, Data Science Tools and Ecosystem are summarized."
   ]
  },
  {
   "cell_type": "markdown",
   "id": "465fdeb9",
   "metadata": {},
   "source": [
    "Some of the popular languages that Data Scientists use are:\n",
    "1. Python\n",
    "2. R\n",
    "3. SQL\n",
    "4.Java"
   ]
  },
  {
   "cell_type": "markdown",
   "id": "b8e15008",
   "metadata": {},
   "source": [
    "Some of the commonly used libraries used by Data Scientists include:\n",
    "1. Pandas\n",
    "2. NumPy\n",
    "3. SciPy\n",
    "4. Matplotlib\n",
    "5. Seaborn"
   ]
  },
  {
   "cell_type": "markdown",
   "id": "2bfe561f",
   "metadata": {},
   "source": [
    "<!-- Creating a Table -->\n",
    "| Data Science Tools |\n",
    "|--------------------|\n",
    "| Jupyter Notebook |\n",
    "| Anaconda Navigator |\n",
    "| MySQL |"
   ]
  },
  {
   "cell_type": "markdown",
   "id": "3896554a",
   "metadata": {},
   "source": [
    "### Below are a few examples of evaluating arithmetic expressions in Python"
   ]
  },
  {
   "cell_type": "code",
   "execution_count": 2,
   "id": "6c6a91a4",
   "metadata": {},
   "outputs": [
    {
     "data": {
      "text/plain": [
       "17"
      ]
     },
     "execution_count": 2,
     "metadata": {},
     "output_type": "execute_result"
    }
   ],
   "source": [
    "# This a simple arithmetic expression to mutiply then add integers\n",
    "(3*4)+5"
   ]
  },
  {
   "cell_type": "code",
   "execution_count": 5,
   "id": "23ca5e28",
   "metadata": {},
   "outputs": [
    {
     "data": {
      "text/plain": [
       "3.33"
      ]
     },
     "execution_count": 5,
     "metadata": {},
     "output_type": "execute_result"
    }
   ],
   "source": [
    "# This will convert 200 minutes to hours by diving by 60, and show upto 2 decimal point\n",
    "round(200/60, 2)"
   ]
  },
  {
   "cell_type": "markdown",
   "id": "83949200",
   "metadata": {},
   "source": [
    "**Objectives**\\\n",
    "In this course, we learned the followings:\n",
    "- Python\n",
    "- Pandas\n",
    "- R\n",
    "- Matplotlib\n",
    "- Github\n"
   ]
  },
  {
   "cell_type": "markdown",
   "id": "0fc7546c",
   "metadata": {},
   "source": [
    "## Author\n",
    "Israt Jahan"
   ]
  },
  {
   "cell_type": "code",
   "execution_count": null,
   "id": "e7a52941",
   "metadata": {},
   "outputs": [],
   "source": []
  }
 ],
 "metadata": {
  "kernelspec": {
   "display_name": "Python 3 (ipykernel)",
   "language": "python",
   "name": "python3"
  },
  "language_info": {
   "codemirror_mode": {
    "name": "ipython",
    "version": 3
   },
   "file_extension": ".py",
   "mimetype": "text/x-python",
   "name": "python",
   "nbconvert_exporter": "python",
   "pygments_lexer": "ipython3",
   "version": "3.9.15"
  }
 },
 "nbformat": 4,
 "nbformat_minor": 5
}
